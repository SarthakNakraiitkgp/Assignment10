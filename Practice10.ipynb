{
 "cells": [
  {
   "cell_type": "markdown",
   "id": "186a17e4-526f-4d9d-afb0-ac1e60f173be",
   "metadata": {},
   "source": [
    "1. What is Abstraction in OOps? Explain with an example."
   ]
  },
  {
   "cell_type": "markdown",
   "id": "62701f97-afdb-45a2-ac8b-62b0e3c7677b",
   "metadata": {},
   "source": [
    "Abstraction is the process of hiding the internal details of an application from the outer world. It basically creates a boundary between the application and the client program.\n",
    "For example making coffee from a coffee machine what we have to do is just have to put water and coffee beans, switch it on and select the kind of coffee you want to get. In this process, you need not to know the temperature of water, mechanism of machine.\n"
   ]
  },
  {
   "cell_type": "code",
   "execution_count": 2,
   "id": "cccf67b3-ff81-481a-9900-09c5b78eddcf",
   "metadata": {},
   "outputs": [
    {
     "name": "stdout",
     "output_type": "stream",
     "text": [
      "Triangle has 3 sides\n",
      "I have 4 sides\n",
      "Pentagon has 5 sides\n",
      "Hexagon has 6 sides\n"
     ]
    }
   ],
   "source": [
    "from abc import ABC  \n",
    "class Polygon(ABC):   \n",
    "   # abstract method   \n",
    "   def sides(self):   \n",
    "      pass  \n",
    "\n",
    "class Triangle(Polygon):     \n",
    "   def sides(self):   \n",
    "      print(\"Triangle has 3 sides\")   \n",
    "  \n",
    "class Pentagon(Polygon):   \n",
    "   def sides(self):   \n",
    "      print(\"Pentagon has 5 sides\")   \n",
    "  \n",
    "class Hexagon(Polygon): \n",
    "   def sides(self):   \n",
    "      print(\"Hexagon has 6 sides\")   \n",
    "  \n",
    "class square(Polygon):  \n",
    "   def sides(self):   \n",
    "      print(\"I have 4 sides\")   \n",
    "  \n",
    "# Driver code   \n",
    "t = Triangle()   \n",
    "t.sides()   \n",
    "  \n",
    "s = square()   \n",
    "s.sides()   \n",
    "  \n",
    "p = Pentagon()   \n",
    "p.sides()   \n",
    "  \n",
    "k = Hexagon()   \n",
    "k.sides()   "
   ]
  },
  {
   "cell_type": "markdown",
   "id": "e5540780-a4e6-49d4-8f1a-4ba13b7c43d7",
   "metadata": {},
   "source": [
    "2. Differentiate between Abstraction and Encapsulation. Explain with an example."
   ]
  },
  {
   "cell_type": "markdown",
   "id": "eae8afd2-a147-4f32-94d6-e4525833ee0a",
   "metadata": {},
   "source": [
    "Abstraction: it is used for hiding the unwanted data and giving relevent data. it lets you focus on what the object does instead of how it does it.\n",
    "Encapsulation: it means hiding the code and data into a single unit to protect data from outside world. it also hides internal details of how an object does something.for example: Abstraction is used in mobile phones’ GUI. When you click on the icons, abstraction allows them to perform specific functions. Let’s look at the encapsulation example to clarify the Encapsulation vs Abstraction. After the icon is clicked, the encapsulation works in the backend to guide the user on the next steps."
   ]
  },
  {
   "cell_type": "markdown",
   "id": "312aafcd-5463-477d-813e-6cdce103e26f",
   "metadata": {},
   "source": [
    "3. What is abc module in python? Why is it used?"
   ]
  },
  {
   "cell_type": "markdown",
   "id": "6a252d41-277c-4563-801d-f735ef7a21c0",
   "metadata": {},
   "source": [
    "the abc module in python provides the infrastructure for defining custom abstract base classes.it can be used to define the blueprint for other classes that may have something in common."
   ]
  },
  {
   "cell_type": "markdown",
   "id": "c758ac74-ff6c-4bcc-a187-67832b33e9d9",
   "metadata": {},
   "source": [
    "4. How can we achieve data abstraction?"
   ]
  },
  {
   "cell_type": "markdown",
   "id": "8f041031-5807-4936-bb95-ced20a34a50f",
   "metadata": {},
   "source": [
    "Data abstraction can be achieved through creating abstract classes and inheriting them later"
   ]
  },
  {
   "cell_type": "markdown",
   "id": "a5623d28-b29f-4b0e-9b01-417e75ec405b",
   "metadata": {},
   "source": [
    "5. Can we create an instance of an abstract class"
   ]
  },
  {
   "cell_type": "markdown",
   "id": "590df8a0-418d-40bc-bd91-88584331cc7e",
   "metadata": {},
   "source": [
    "No you can not create an instance of an ABSTRACT class. This class is only used to provide structure to the program. Using an ABSTRACT class ensures that you will use inheritance which is the basic of object oriented programing.Though you can create a reference of an ABSTRACT class which can store the object of the derived class.\n"
   ]
  },
  {
   "cell_type": "code",
   "execution_count": null,
   "id": "5cfb1df7-fffc-4130-88d9-e9845862631d",
   "metadata": {},
   "outputs": [],
   "source": []
  }
 ],
 "metadata": {
  "kernelspec": {
   "display_name": "Python 3 (ipykernel)",
   "language": "python",
   "name": "python3"
  },
  "language_info": {
   "codemirror_mode": {
    "name": "ipython",
    "version": 3
   },
   "file_extension": ".py",
   "mimetype": "text/x-python",
   "name": "python",
   "nbconvert_exporter": "python",
   "pygments_lexer": "ipython3",
   "version": "3.10.8"
  }
 },
 "nbformat": 4,
 "nbformat_minor": 5
}
